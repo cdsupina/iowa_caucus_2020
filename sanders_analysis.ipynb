{
 "cells": [
  {
   "cell_type": "code",
   "execution_count": 5,
   "metadata": {},
   "outputs": [
    {
     "data": {
      "text/plain": [
       "'en_US.UTF-8'"
      ]
     },
     "execution_count": 5,
     "metadata": {},
     "output_type": "execute_result"
    }
   ],
   "source": [
    "import pandas as pd\n",
    "import locale\n",
    "locale.setlocale( locale.LC_ALL, 'en_US.UTF-8' ) "
   ]
  },
  {
   "cell_type": "code",
   "execution_count": 6,
   "metadata": {},
   "outputs": [],
   "source": [
    "sanders_data = pd.read_csv(\"sanders.csv\")\n",
    "totals_data = pd.read_csv(\"totals.csv\")"
   ]
  },
  {
   "cell_type": "code",
   "execution_count": 7,
   "metadata": {},
   "outputs": [
    {
     "data": {
      "text/html": [
       "<div>\n",
       "<style scoped>\n",
       "    .dataframe tbody tr th:only-of-type {\n",
       "        vertical-align: middle;\n",
       "    }\n",
       "\n",
       "    .dataframe tbody tr th {\n",
       "        vertical-align: top;\n",
       "    }\n",
       "\n",
       "    .dataframe thead th {\n",
       "        text-align: right;\n",
       "    }\n",
       "</style>\n",
       "<table border=\"1\" class=\"dataframe\">\n",
       "  <thead>\n",
       "    <tr style=\"text-align: right;\">\n",
       "      <th></th>\n",
       "      <th>County</th>\n",
       "      <th>Precinct</th>\n",
       "      <th>First Expression</th>\n",
       "      <th>Final Expression</th>\n",
       "      <th>SDE</th>\n",
       "    </tr>\n",
       "  </thead>\n",
       "  <tbody>\n",
       "    <tr>\n",
       "      <th>0</th>\n",
       "      <td>Adair</td>\n",
       "      <td>1NW ADAIR</td>\n",
       "      <td>9</td>\n",
       "      <td>9</td>\n",
       "      <td>0.1569</td>\n",
       "    </tr>\n",
       "    <tr>\n",
       "      <th>1</th>\n",
       "      <td>NaN</td>\n",
       "      <td>2NE STUART</td>\n",
       "      <td>10</td>\n",
       "      <td>10</td>\n",
       "      <td>0.2353</td>\n",
       "    </tr>\n",
       "    <tr>\n",
       "      <th>2</th>\n",
       "      <td>NaN</td>\n",
       "      <td>5GF GREENFIELD</td>\n",
       "      <td>16</td>\n",
       "      <td>21</td>\n",
       "      <td>0.3137</td>\n",
       "    </tr>\n",
       "    <tr>\n",
       "      <th>3</th>\n",
       "      <td>NaN</td>\n",
       "      <td>Total</td>\n",
       "      <td>35</td>\n",
       "      <td>40</td>\n",
       "      <td>0.7059</td>\n",
       "    </tr>\n",
       "    <tr>\n",
       "      <th>4</th>\n",
       "      <td>Adams</td>\n",
       "      <td>Adams 5</td>\n",
       "      <td>3</td>\n",
       "      <td>3</td>\n",
       "      <td>0.0857</td>\n",
       "    </tr>\n",
       "  </tbody>\n",
       "</table>\n",
       "</div>"
      ],
      "text/plain": [
       "  County        Precinct First Expression Final Expression     SDE\n",
       "0  Adair       1NW ADAIR                9                9  0.1569\n",
       "1    NaN      2NE STUART               10               10  0.2353\n",
       "2    NaN  5GF GREENFIELD               16               21  0.3137\n",
       "3    NaN           Total               35               40  0.7059\n",
       "4  Adams         Adams 5                3                3  0.0857"
      ]
     },
     "execution_count": 7,
     "metadata": {},
     "output_type": "execute_result"
    }
   ],
   "source": [
    "sanders_data.head()"
   ]
  },
  {
   "cell_type": "code",
   "execution_count": 8,
   "metadata": {},
   "outputs": [
    {
     "data": {
      "text/html": [
       "<div>\n",
       "<style scoped>\n",
       "    .dataframe tbody tr th:only-of-type {\n",
       "        vertical-align: middle;\n",
       "    }\n",
       "\n",
       "    .dataframe tbody tr th {\n",
       "        vertical-align: top;\n",
       "    }\n",
       "\n",
       "    .dataframe thead th {\n",
       "        text-align: right;\n",
       "    }\n",
       "</style>\n",
       "<table border=\"1\" class=\"dataframe\">\n",
       "  <thead>\n",
       "    <tr style=\"text-align: right;\">\n",
       "      <th></th>\n",
       "      <th>County</th>\n",
       "      <th>Precinct</th>\n",
       "      <th>First Expression</th>\n",
       "      <th>Final Expression</th>\n",
       "      <th>SDE</th>\n",
       "    </tr>\n",
       "  </thead>\n",
       "  <tbody>\n",
       "    <tr>\n",
       "      <th>0</th>\n",
       "      <td>Adair</td>\n",
       "      <td>1NW ADAIR</td>\n",
       "      <td>40</td>\n",
       "      <td>40</td>\n",
       "      <td>0.6275</td>\n",
       "    </tr>\n",
       "    <tr>\n",
       "      <th>1</th>\n",
       "      <td>NaN</td>\n",
       "      <td>2NE STUART</td>\n",
       "      <td>43</td>\n",
       "      <td>43</td>\n",
       "      <td>0.8628</td>\n",
       "    </tr>\n",
       "    <tr>\n",
       "      <th>2</th>\n",
       "      <td>NaN</td>\n",
       "      <td>5GF GREENFIELD</td>\n",
       "      <td>78</td>\n",
       "      <td>78</td>\n",
       "      <td>1.0197</td>\n",
       "    </tr>\n",
       "    <tr>\n",
       "      <th>3</th>\n",
       "      <td>NaN</td>\n",
       "      <td>Total</td>\n",
       "      <td>161</td>\n",
       "      <td>161</td>\n",
       "      <td>2.5100</td>\n",
       "    </tr>\n",
       "    <tr>\n",
       "      <th>4</th>\n",
       "      <td>Adams</td>\n",
       "      <td>Adams 5</td>\n",
       "      <td>15</td>\n",
       "      <td>15</td>\n",
       "      <td>0.4285</td>\n",
       "    </tr>\n",
       "  </tbody>\n",
       "</table>\n",
       "</div>"
      ],
      "text/plain": [
       "  County        Precinct  First Expression  Final Expression     SDE\n",
       "0  Adair       1NW ADAIR                40                40  0.6275\n",
       "1    NaN      2NE STUART                43                43  0.8628\n",
       "2    NaN  5GF GREENFIELD                78                78  1.0197\n",
       "3    NaN           Total               161               161  2.5100\n",
       "4  Adams         Adams 5                15                15  0.4285"
      ]
     },
     "execution_count": 8,
     "metadata": {},
     "output_type": "execute_result"
    }
   ],
   "source": [
    "totals_data.head()"
   ]
  },
  {
   "cell_type": "markdown",
   "metadata": {},
   "source": [
    "## Get All of the Counties"
   ]
  },
  {
   "cell_type": "code",
   "execution_count": 9,
   "metadata": {},
   "outputs": [],
   "source": [
    "def collect_county_dataframes(data):\n",
    "    county_dataframes = []\n",
    "    county_start = 0\n",
    "    \n",
    "    for i in range(1, data.shape[0]):\n",
    "        if isinstance(data.iloc[i,0], str):\n",
    "            county_dataframes.append(data.iloc[county_start:i, :])\n",
    "            county_start = i\n",
    "            \n",
    "    return county_dataframes"
   ]
  },
  {
   "cell_type": "code",
   "execution_count": 10,
   "metadata": {},
   "outputs": [],
   "source": [
    "sanders_counties = collect_county_dataframes(sanders_data)\n",
    "total_counties = collect_county_dataframes(totals_data)"
   ]
  },
  {
   "cell_type": "code",
   "execution_count": 11,
   "metadata": {},
   "outputs": [
    {
     "data": {
      "text/html": [
       "<div>\n",
       "<style scoped>\n",
       "    .dataframe tbody tr th:only-of-type {\n",
       "        vertical-align: middle;\n",
       "    }\n",
       "\n",
       "    .dataframe tbody tr th {\n",
       "        vertical-align: top;\n",
       "    }\n",
       "\n",
       "    .dataframe thead th {\n",
       "        text-align: right;\n",
       "    }\n",
       "</style>\n",
       "<table border=\"1\" class=\"dataframe\">\n",
       "  <thead>\n",
       "    <tr style=\"text-align: right;\">\n",
       "      <th></th>\n",
       "      <th>County</th>\n",
       "      <th>Precinct</th>\n",
       "      <th>First Expression</th>\n",
       "      <th>Final Expression</th>\n",
       "      <th>SDE</th>\n",
       "    </tr>\n",
       "  </thead>\n",
       "  <tbody>\n",
       "    <tr>\n",
       "      <th>0</th>\n",
       "      <td>Adair</td>\n",
       "      <td>1NW ADAIR</td>\n",
       "      <td>9</td>\n",
       "      <td>9</td>\n",
       "      <td>0.1569</td>\n",
       "    </tr>\n",
       "    <tr>\n",
       "      <th>1</th>\n",
       "      <td>NaN</td>\n",
       "      <td>2NE STUART</td>\n",
       "      <td>10</td>\n",
       "      <td>10</td>\n",
       "      <td>0.2353</td>\n",
       "    </tr>\n",
       "    <tr>\n",
       "      <th>2</th>\n",
       "      <td>NaN</td>\n",
       "      <td>5GF GREENFIELD</td>\n",
       "      <td>16</td>\n",
       "      <td>21</td>\n",
       "      <td>0.3137</td>\n",
       "    </tr>\n",
       "    <tr>\n",
       "      <th>3</th>\n",
       "      <td>NaN</td>\n",
       "      <td>Total</td>\n",
       "      <td>35</td>\n",
       "      <td>40</td>\n",
       "      <td>0.7059</td>\n",
       "    </tr>\n",
       "  </tbody>\n",
       "</table>\n",
       "</div>"
      ],
      "text/plain": [
       "  County        Precinct First Expression Final Expression     SDE\n",
       "0  Adair       1NW ADAIR                9                9  0.1569\n",
       "1    NaN      2NE STUART               10               10  0.2353\n",
       "2    NaN  5GF GREENFIELD               16               21  0.3137\n",
       "3    NaN           Total               35               40  0.7059"
      ]
     },
     "execution_count": 11,
     "metadata": {},
     "output_type": "execute_result"
    }
   ],
   "source": [
    "sanders_counties[0]"
   ]
  },
  {
   "cell_type": "code",
   "execution_count": 12,
   "metadata": {},
   "outputs": [
    {
     "data": {
      "text/html": [
       "<div>\n",
       "<style scoped>\n",
       "    .dataframe tbody tr th:only-of-type {\n",
       "        vertical-align: middle;\n",
       "    }\n",
       "\n",
       "    .dataframe tbody tr th {\n",
       "        vertical-align: top;\n",
       "    }\n",
       "\n",
       "    .dataframe thead th {\n",
       "        text-align: right;\n",
       "    }\n",
       "</style>\n",
       "<table border=\"1\" class=\"dataframe\">\n",
       "  <thead>\n",
       "    <tr style=\"text-align: right;\">\n",
       "      <th></th>\n",
       "      <th>County</th>\n",
       "      <th>Precinct</th>\n",
       "      <th>First Expression</th>\n",
       "      <th>Final Expression</th>\n",
       "      <th>SDE</th>\n",
       "    </tr>\n",
       "  </thead>\n",
       "  <tbody>\n",
       "    <tr>\n",
       "      <th>0</th>\n",
       "      <td>Adair</td>\n",
       "      <td>1NW ADAIR</td>\n",
       "      <td>40</td>\n",
       "      <td>40</td>\n",
       "      <td>0.6275</td>\n",
       "    </tr>\n",
       "    <tr>\n",
       "      <th>1</th>\n",
       "      <td>NaN</td>\n",
       "      <td>2NE STUART</td>\n",
       "      <td>43</td>\n",
       "      <td>43</td>\n",
       "      <td>0.8628</td>\n",
       "    </tr>\n",
       "    <tr>\n",
       "      <th>2</th>\n",
       "      <td>NaN</td>\n",
       "      <td>5GF GREENFIELD</td>\n",
       "      <td>78</td>\n",
       "      <td>78</td>\n",
       "      <td>1.0197</td>\n",
       "    </tr>\n",
       "    <tr>\n",
       "      <th>3</th>\n",
       "      <td>NaN</td>\n",
       "      <td>Total</td>\n",
       "      <td>161</td>\n",
       "      <td>161</td>\n",
       "      <td>2.5100</td>\n",
       "    </tr>\n",
       "  </tbody>\n",
       "</table>\n",
       "</div>"
      ],
      "text/plain": [
       "  County        Precinct  First Expression  Final Expression     SDE\n",
       "0  Adair       1NW ADAIR                40                40  0.6275\n",
       "1    NaN      2NE STUART                43                43  0.8628\n",
       "2    NaN  5GF GREENFIELD                78                78  1.0197\n",
       "3    NaN           Total               161               161  2.5100"
      ]
     },
     "execution_count": 12,
     "metadata": {},
     "output_type": "execute_result"
    }
   ],
   "source": [
    "total_counties[0]"
   ]
  }
 ],
 "metadata": {
  "kernelspec": {
   "display_name": "Python 3",
   "language": "python",
   "name": "python3"
  },
  "language_info": {
   "codemirror_mode": {
    "name": "ipython",
    "version": 3
   },
   "file_extension": ".py",
   "mimetype": "text/x-python",
   "name": "python",
   "nbconvert_exporter": "python",
   "pygments_lexer": "ipython3",
   "version": "3.8.0"
  }
 },
 "nbformat": 4,
 "nbformat_minor": 4
}
